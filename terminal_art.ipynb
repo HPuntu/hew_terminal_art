{
 "cells": [
  {
   "cell_type": "code",
   "execution_count": 5,
   "id": "3684d4f5",
   "metadata": {},
   "outputs": [
    {
     "name": "stdout",
     "output_type": "stream",
     "text": [
      "Image size: 640 x 480\n"
     ]
    }
   ],
   "source": [
    "from PIL import Image\n",
    "\n",
    "image = Image.open(\"soul_eater.jpg\")\n",
    "print(f\"Image size: {image.width} x {image.height}\")"
   ]
  },
  {
   "cell_type": "code",
   "execution_count": null,
   "id": "a058e70e",
   "metadata": {},
   "outputs": [
    {
     "name": "stdout",
     "output_type": "stream",
     "text": [
      "64.33333333333333\n"
     ]
    }
   ],
   "source": [
    "import numpy as np\n",
    "pixels = image.load()\n",
    "\n",
    "def average(rgb):\n",
    "    r, g, b = rgb\n",
    "    return (r+g+b)/3\n",
    "\n",
    "def lightness(rgb):\n",
    "    return (max(rgb) + min(rgb)) /2\n",
    "\n",
    "def luminosity(rgb):\n",
    "    r, g, b = rgb\n",
    "    return 0.21*r + 0.72*g + 0.07*b\n",
    "\n",
    "method = average\n",
    "matrix = np.zeros((image.width, image.height), dtype=np.float64)\n",
    "for i in range(image.width):\n",
    "    for j in range(image.height):\n",
    "        matrix[i,j] = method(pixels[i,j])"
   ]
  },
  {
   "cell_type": "code",
   "execution_count": 48,
   "id": "f6023560",
   "metadata": {},
   "outputs": [
    {
     "name": "stdout",
     "output_type": "stream",
     "text": [
      "[['`' '`' '`' ... '`' '`' '`']\n",
      " ['`' '`' '`' ... '`' '`' '`']\n",
      " ['`' '`' '`' ... '`' '`' '`']\n",
      " ...\n",
      " ['`' '`' '`' ... '`' '`' '`']\n",
      " ['`' '`' '`' ... '`' '`' '`']\n",
      " ['`' '`' '`' ... '`' '`' '`']]\n"
     ]
    }
   ],
   "source": [
    "ASCIIs = '`^\\\",:;Il!i~+_-?][}{1)(|\\\\/tfjrxnuvczXYUJCLQ0OZmwqpdbkhao*#MW&8%B@$'\n",
    "MAX_BRIGHTNESS = 255\n",
    "def map_val_to_ascii(val):\n",
    "    space = MAX_BRIGHTNESS/len(ASCIIs)\n",
    "    return ASCIIs[min(int(val // space), 64)]\n",
    "\n",
    "ascii_matrix = np.zeros((image.width, image.height), dtype=str)\n",
    "for i in range(image.width):\n",
    "    for j in range(image.height):\n",
    "        ascii_matrix[i,j] = map_val_to_ascii(matrix[i,j])\n",
    "\n",
    "print(ascii_matrix)\n"
   ]
  }
 ],
 "metadata": {
  "kernelspec": {
   "display_name": "terminal_art",
   "language": "python",
   "name": "python3"
  },
  "language_info": {
   "codemirror_mode": {
    "name": "ipython",
    "version": 3
   },
   "file_extension": ".py",
   "mimetype": "text/x-python",
   "name": "python",
   "nbconvert_exporter": "python",
   "pygments_lexer": "ipython3",
   "version": "3.10.18"
  }
 },
 "nbformat": 4,
 "nbformat_minor": 5
}
